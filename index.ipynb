{
 "cells": [
  {
   "cell_type": "code",
   "execution_count": 1,
   "metadata": {},
   "outputs": [],
   "source": [
    "import tensorflow as tf\n",
    "import pandas as pd\n",
    "import numpy as np"
   ]
  },
  {
   "cell_type": "code",
   "execution_count": 18,
   "metadata": {},
   "outputs": [
    {
     "name": "stdout",
     "output_type": "stream",
     "text": [
      "<class 'pandas.core.frame.DataFrame'>\n",
      "RangeIndex: 4600 entries, 0 to 4599\n",
      "Data columns (total 18 columns):\n",
      " #   Column         Non-Null Count  Dtype  \n",
      "---  ------         --------------  -----  \n",
      " 0   date           4600 non-null   object \n",
      " 1   price          4600 non-null   float64\n",
      " 2   bedrooms       4600 non-null   float64\n",
      " 3   bathrooms      4600 non-null   float64\n",
      " 4   sqft_living    4600 non-null   int64  \n",
      " 5   sqft_lot       4600 non-null   int64  \n",
      " 6   floors         4600 non-null   float64\n",
      " 7   waterfront     4600 non-null   int64  \n",
      " 8   view           4600 non-null   int64  \n",
      " 9   condition      4600 non-null   int64  \n",
      " 10  sqft_above     4600 non-null   int64  \n",
      " 11  sqft_basement  4600 non-null   int64  \n",
      " 12  yr_built       4600 non-null   int64  \n",
      " 13  yr_renovated   4600 non-null   int64  \n",
      " 14  street         4600 non-null   object \n",
      " 15  city           4600 non-null   object \n",
      " 16  statezip       4600 non-null   object \n",
      " 17  country        4600 non-null   object \n",
      "dtypes: float64(4), int64(9), object(5)\n",
      "memory usage: 647.0+ KB\n"
     ]
    }
   ],
   "source": [
    "data_csv = pd.read_csv(\"data.csv\")\n",
    "#print(data_csv)\n",
    "data_csv.info()"
   ]
  },
  {
   "cell_type": "code",
   "execution_count": 6,
   "metadata": {},
   "outputs": [
    {
     "name": "stdout",
     "output_type": "stream",
     "text": [
      "0       3.0\n",
      "1       5.0\n",
      "2       3.0\n",
      "3       3.0\n",
      "4       4.0\n",
      "       ... \n",
      "4595    3.0\n",
      "4596    3.0\n",
      "4597    3.0\n",
      "4598    4.0\n",
      "4599    3.0\n",
      "Name: bedrooms, Length: 4600, dtype: float64\n"
     ]
    }
   ],
   "source": [
    "bedroom = data_csv['bedrooms']\n",
    "bathroom = data_csv['bathrooms']\n",
    "luas = data_csv['sqft_living']\n",
    "floor = data_csv['floors']\n",
    "prices = data_csv['price']\n",
    "print(bedroom)\n"
   ]
  },
  {
   "cell_type": "code",
   "execution_count": null,
   "metadata": {},
   "outputs": [],
   "source": [
    "house_all = []\n",
    "for index in range(len(bedroom)):\n",
    "    house = []\n",
    "    house.append(bedroom[index])\n",
    "    house.append(bathroom[index])\n",
    "    house.append(luas[index])\n",
    "    house.append(floor[index])\n",
    "\n",
    "    house_all.append(house)\n",
    "\n",
    "print(house_all)"
   ]
  },
  {
   "cell_type": "code",
   "execution_count": 8,
   "metadata": {},
   "outputs": [
    {
     "name": "stdout",
     "output_type": "stream",
     "text": [
      "[[3.00e+00 1.50e+00 1.34e+03 1.50e+00]\n",
      " [5.00e+00 2.50e+00 3.65e+03 2.00e+00]\n",
      " [3.00e+00 2.00e+00 1.93e+03 1.00e+00]\n",
      " ...\n",
      " [3.00e+00 2.50e+00 3.01e+03 2.00e+00]\n",
      " [4.00e+00 2.00e+00 2.09e+03 1.00e+00]\n",
      " [3.00e+00 2.50e+00 1.49e+03 2.00e+00]]\n"
     ]
    }
   ],
   "source": [
    "house_all = np.array(house_all)\n",
    "prices = np.array(prices)\n",
    "\n",
    "print(house_all)"
   ]
  },
  {
   "cell_type": "code",
   "execution_count": 9,
   "metadata": {},
   "outputs": [],
   "source": [
    "model = tf.keras.models.Sequential([\n",
    "    tf.keras.layers.Dense(1, input_shape=[4]) #input_s = input: bedroom, bathroom, luas, floor\n",
    "])\n"
   ]
  },
  {
   "cell_type": "code",
   "execution_count": 11,
   "metadata": {},
   "outputs": [],
   "source": [
    "model.compile(\n",
    "    loss = 'mae',\n",
    "    optimizer = 'sgd',\n",
    "    metrics = 'accuracy'\n",
    ")"
   ]
  },
  {
   "cell_type": "code",
   "execution_count": 12,
   "metadata": {},
   "outputs": [
    {
     "name": "stdout",
     "output_type": "stream",
     "text": [
      "Epoch 1/100\n",
      "144/144 [==============================] - 1s 2ms/step - loss: 197568.0625 - accuracy: 0.0000e+00\n",
      "Epoch 2/100\n",
      "144/144 [==============================] - 0s 2ms/step - loss: 183873.3281 - accuracy: 0.0000e+00\n",
      "Epoch 3/100\n",
      "144/144 [==============================] - 0s 2ms/step - loss: 183680.1406 - accuracy: 0.0000e+00\n",
      "Epoch 4/100\n",
      "144/144 [==============================] - 0s 2ms/step - loss: 183957.2500 - accuracy: 0.0000e+00\n",
      "Epoch 5/100\n",
      "144/144 [==============================] - 0s 2ms/step - loss: 183921.3438 - accuracy: 0.0000e+00\n",
      "Epoch 6/100\n",
      "144/144 [==============================] - 0s 2ms/step - loss: 184060.5938 - accuracy: 0.0000e+00\n",
      "Epoch 7/100\n",
      "144/144 [==============================] - 0s 2ms/step - loss: 183812.3750 - accuracy: 0.0000e+00\n",
      "Epoch 8/100\n",
      "144/144 [==============================] - 0s 2ms/step - loss: 183719.3594 - accuracy: 0.0000e+00\n",
      "Epoch 9/100\n",
      "144/144 [==============================] - 0s 2ms/step - loss: 184028.6562 - accuracy: 0.0000e+00\n",
      "Epoch 10/100\n",
      "144/144 [==============================] - 0s 2ms/step - loss: 183915.3125 - accuracy: 0.0000e+00\n",
      "Epoch 11/100\n",
      "144/144 [==============================] - 0s 2ms/step - loss: 183882.6562 - accuracy: 0.0000e+00\n",
      "Epoch 12/100\n",
      "144/144 [==============================] - 0s 2ms/step - loss: 183652.3438 - accuracy: 0.0000e+00\n",
      "Epoch 13/100\n",
      "144/144 [==============================] - 0s 3ms/step - loss: 184023.9844 - accuracy: 0.0000e+00\n",
      "Epoch 14/100\n",
      "144/144 [==============================] - 0s 2ms/step - loss: 183691.9375 - accuracy: 0.0000e+00\n",
      "Epoch 15/100\n",
      "144/144 [==============================] - 0s 2ms/step - loss: 183949.3125 - accuracy: 0.0000e+00\n",
      "Epoch 16/100\n",
      "144/144 [==============================] - 0s 2ms/step - loss: 183712.9844 - accuracy: 0.0000e+00\n",
      "Epoch 17/100\n",
      "144/144 [==============================] - 0s 2ms/step - loss: 183763.1719 - accuracy: 0.0000e+00\n",
      "Epoch 18/100\n",
      "144/144 [==============================] - 0s 2ms/step - loss: 183843.9531 - accuracy: 0.0000e+00\n",
      "Epoch 19/100\n",
      "144/144 [==============================] - 0s 2ms/step - loss: 183876.8438 - accuracy: 0.0000e+00\n",
      "Epoch 20/100\n",
      "144/144 [==============================] - 0s 2ms/step - loss: 184084.2500 - accuracy: 0.0000e+00\n",
      "Epoch 21/100\n",
      "144/144 [==============================] - 1s 4ms/step - loss: 183413.5000 - accuracy: 0.0000e+00\n",
      "Epoch 22/100\n",
      "144/144 [==============================] - 1s 4ms/step - loss: 183787.1406 - accuracy: 0.0000e+00\n",
      "Epoch 23/100\n",
      "144/144 [==============================] - 1s 4ms/step - loss: 183538.3125 - accuracy: 0.0000e+00\n",
      "Epoch 24/100\n",
      "144/144 [==============================] - 1s 5ms/step - loss: 183759.6875 - accuracy: 0.0000e+00\n",
      "Epoch 25/100\n",
      "144/144 [==============================] - 1s 4ms/step - loss: 183734.3125 - accuracy: 0.0000e+00\n",
      "Epoch 26/100\n",
      "144/144 [==============================] - 1s 4ms/step - loss: 183667.6250 - accuracy: 0.0000e+00\n",
      "Epoch 27/100\n",
      "144/144 [==============================] - 1s 4ms/step - loss: 184013.4219 - accuracy: 0.0000e+00\n",
      "Epoch 28/100\n",
      "144/144 [==============================] - 1s 4ms/step - loss: 183869.4375 - accuracy: 0.0000e+00\n",
      "Epoch 29/100\n",
      "144/144 [==============================] - 1s 4ms/step - loss: 184152.7500 - accuracy: 0.0000e+00\n",
      "Epoch 30/100\n",
      "144/144 [==============================] - 1s 4ms/step - loss: 183863.3438 - accuracy: 0.0000e+00\n",
      "Epoch 31/100\n",
      "144/144 [==============================] - 0s 3ms/step - loss: 183869.9844 - accuracy: 0.0000e+00\n",
      "Epoch 32/100\n",
      "144/144 [==============================] - 0s 3ms/step - loss: 183768.1875 - accuracy: 0.0000e+00\n",
      "Epoch 33/100\n",
      "144/144 [==============================] - 0s 3ms/step - loss: 183844.2500 - accuracy: 0.0000e+00\n",
      "Epoch 34/100\n",
      "144/144 [==============================] - 1s 4ms/step - loss: 183778.3906 - accuracy: 0.0000e+00\n",
      "Epoch 35/100\n",
      "144/144 [==============================] - 0s 3ms/step - loss: 183843.4219 - accuracy: 0.0000e+00\n",
      "Epoch 36/100\n",
      "144/144 [==============================] - 0s 2ms/step - loss: 183656.4531 - accuracy: 0.0000e+00\n",
      "Epoch 37/100\n",
      "144/144 [==============================] - 0s 3ms/step - loss: 183833.9688 - accuracy: 0.0000e+00\n",
      "Epoch 38/100\n",
      "144/144 [==============================] - 0s 3ms/step - loss: 183735.1406 - accuracy: 0.0000e+00\n",
      "Epoch 39/100\n",
      "144/144 [==============================] - 0s 2ms/step - loss: 183998.9219 - accuracy: 0.0000e+00\n",
      "Epoch 40/100\n",
      "144/144 [==============================] - 0s 2ms/step - loss: 183776.7344 - accuracy: 0.0000e+00\n",
      "Epoch 41/100\n",
      "144/144 [==============================] - 0s 2ms/step - loss: 183715.6406 - accuracy: 0.0000e+00\n",
      "Epoch 42/100\n",
      "144/144 [==============================] - 0s 2ms/step - loss: 183864.3906 - accuracy: 0.0000e+00\n",
      "Epoch 43/100\n",
      "144/144 [==============================] - 0s 3ms/step - loss: 183588.7344 - accuracy: 0.0000e+00\n",
      "Epoch 44/100\n",
      "144/144 [==============================] - 0s 2ms/step - loss: 183958.2031 - accuracy: 0.0000e+00\n",
      "Epoch 45/100\n",
      "144/144 [==============================] - 0s 2ms/step - loss: 183182.5156 - accuracy: 0.0000e+00\n",
      "Epoch 46/100\n",
      "144/144 [==============================] - 0s 3ms/step - loss: 183881.5312 - accuracy: 0.0000e+00\n",
      "Epoch 47/100\n",
      "144/144 [==============================] - 0s 3ms/step - loss: 183682.8594 - accuracy: 0.0000e+00\n",
      "Epoch 48/100\n",
      "144/144 [==============================] - 0s 3ms/step - loss: 183653.9062 - accuracy: 0.0000e+00\n",
      "Epoch 49/100\n",
      "144/144 [==============================] - 0s 3ms/step - loss: 184127.6250 - accuracy: 0.0000e+00\n",
      "Epoch 50/100\n",
      "144/144 [==============================] - 0s 3ms/step - loss: 183927.6094 - accuracy: 0.0000e+00\n",
      "Epoch 51/100\n",
      "144/144 [==============================] - 0s 3ms/step - loss: 183569.5312 - accuracy: 0.0000e+00\n",
      "Epoch 52/100\n",
      "144/144 [==============================] - 0s 3ms/step - loss: 183703.8438 - accuracy: 0.0000e+00\n",
      "Epoch 53/100\n",
      "144/144 [==============================] - 0s 3ms/step - loss: 183646.8125 - accuracy: 0.0000e+00\n",
      "Epoch 54/100\n",
      "144/144 [==============================] - 0s 2ms/step - loss: 183836.1406 - accuracy: 0.0000e+00\n",
      "Epoch 55/100\n",
      "144/144 [==============================] - 0s 2ms/step - loss: 183681.0312 - accuracy: 0.0000e+00\n",
      "Epoch 56/100\n",
      "144/144 [==============================] - 0s 3ms/step - loss: 183832.7188 - accuracy: 0.0000e+00\n",
      "Epoch 57/100\n",
      "144/144 [==============================] - 0s 2ms/step - loss: 183871.4219 - accuracy: 0.0000e+00\n",
      "Epoch 58/100\n",
      "144/144 [==============================] - 0s 2ms/step - loss: 183663.1719 - accuracy: 0.0000e+00\n",
      "Epoch 59/100\n",
      "144/144 [==============================] - 0s 2ms/step - loss: 183649.9531 - accuracy: 0.0000e+00\n",
      "Epoch 60/100\n",
      "144/144 [==============================] - 0s 2ms/step - loss: 183835.2031 - accuracy: 0.0000e+00\n",
      "Epoch 61/100\n",
      "144/144 [==============================] - 0s 2ms/step - loss: 184008.2656 - accuracy: 0.0000e+00\n",
      "Epoch 62/100\n",
      "144/144 [==============================] - 0s 2ms/step - loss: 183787.7500 - accuracy: 0.0000e+00\n",
      "Epoch 63/100\n",
      "144/144 [==============================] - 0s 2ms/step - loss: 183827.7812 - accuracy: 0.0000e+00\n",
      "Epoch 64/100\n",
      "144/144 [==============================] - 0s 2ms/step - loss: 183725.7344 - accuracy: 0.0000e+00\n",
      "Epoch 65/100\n",
      "144/144 [==============================] - 0s 2ms/step - loss: 183813.9062 - accuracy: 0.0000e+00\n",
      "Epoch 66/100\n",
      "144/144 [==============================] - 0s 2ms/step - loss: 183870.6406 - accuracy: 0.0000e+00\n",
      "Epoch 67/100\n",
      "144/144 [==============================] - 0s 2ms/step - loss: 183707.3594 - accuracy: 0.0000e+00\n",
      "Epoch 68/100\n",
      "144/144 [==============================] - 0s 2ms/step - loss: 184137.4844 - accuracy: 0.0000e+00\n",
      "Epoch 69/100\n",
      "144/144 [==============================] - 0s 2ms/step - loss: 183784.1719 - accuracy: 0.0000e+00\n",
      "Epoch 70/100\n",
      "144/144 [==============================] - 0s 2ms/step - loss: 183959.8125 - accuracy: 0.0000e+00\n",
      "Epoch 71/100\n",
      "144/144 [==============================] - 0s 2ms/step - loss: 183814.5469 - accuracy: 0.0000e+00\n",
      "Epoch 72/100\n",
      "144/144 [==============================] - 0s 2ms/step - loss: 183946.3750 - accuracy: 0.0000e+00\n",
      "Epoch 73/100\n",
      "144/144 [==============================] - 0s 2ms/step - loss: 183787.1094 - accuracy: 0.0000e+00\n",
      "Epoch 74/100\n",
      "144/144 [==============================] - 0s 2ms/step - loss: 183895.1875 - accuracy: 0.0000e+00\n",
      "Epoch 75/100\n",
      "144/144 [==============================] - 0s 2ms/step - loss: 183951.9062 - accuracy: 0.0000e+00\n",
      "Epoch 76/100\n",
      "144/144 [==============================] - 0s 2ms/step - loss: 183840.7344 - accuracy: 0.0000e+00\n",
      "Epoch 77/100\n",
      "144/144 [==============================] - 0s 2ms/step - loss: 183757.7812 - accuracy: 0.0000e+00\n",
      "Epoch 78/100\n",
      "144/144 [==============================] - 0s 3ms/step - loss: 183845.5312 - accuracy: 0.0000e+00\n",
      "Epoch 79/100\n",
      "144/144 [==============================] - 1s 4ms/step - loss: 183793.5312 - accuracy: 0.0000e+00\n",
      "Epoch 80/100\n",
      "144/144 [==============================] - 1s 4ms/step - loss: 184000.1406 - accuracy: 0.0000e+00\n",
      "Epoch 81/100\n",
      "144/144 [==============================] - 0s 3ms/step - loss: 183777.7500 - accuracy: 0.0000e+00\n",
      "Epoch 82/100\n",
      "144/144 [==============================] - 0s 2ms/step - loss: 183713.5625 - accuracy: 0.0000e+00\n",
      "Epoch 83/100\n",
      "144/144 [==============================] - 0s 2ms/step - loss: 183399.0625 - accuracy: 0.0000e+00\n",
      "Epoch 84/100\n",
      "144/144 [==============================] - 0s 2ms/step - loss: 183909.0000 - accuracy: 0.0000e+00\n",
      "Epoch 85/100\n",
      "144/144 [==============================] - 0s 2ms/step - loss: 183695.0469 - accuracy: 0.0000e+00\n",
      "Epoch 86/100\n",
      "144/144 [==============================] - 0s 2ms/step - loss: 183661.5000 - accuracy: 0.0000e+00\n",
      "Epoch 87/100\n",
      "144/144 [==============================] - 0s 2ms/step - loss: 183902.6719 - accuracy: 0.0000e+00\n",
      "Epoch 88/100\n",
      "144/144 [==============================] - 0s 2ms/step - loss: 183697.4219 - accuracy: 0.0000e+00\n",
      "Epoch 89/100\n",
      "144/144 [==============================] - 0s 2ms/step - loss: 183896.6562 - accuracy: 0.0000e+00\n",
      "Epoch 90/100\n",
      "144/144 [==============================] - 0s 1ms/step - loss: 183622.7188 - accuracy: 0.0000e+00\n",
      "Epoch 91/100\n",
      "144/144 [==============================] - 0s 2ms/step - loss: 183788.9062 - accuracy: 0.0000e+00\n",
      "Epoch 92/100\n",
      "144/144 [==============================] - 0s 2ms/step - loss: 183886.7500 - accuracy: 0.0000e+00\n",
      "Epoch 93/100\n",
      "144/144 [==============================] - 0s 2ms/step - loss: 183883.8594 - accuracy: 0.0000e+00\n",
      "Epoch 94/100\n",
      "144/144 [==============================] - 0s 2ms/step - loss: 183662.5469 - accuracy: 0.0000e+00\n",
      "Epoch 95/100\n",
      "144/144 [==============================] - 0s 2ms/step - loss: 184082.8750 - accuracy: 0.0000e+00\n",
      "Epoch 96/100\n",
      "144/144 [==============================] - 0s 2ms/step - loss: 183548.2188 - accuracy: 0.0000e+00\n",
      "Epoch 97/100\n",
      "144/144 [==============================] - 0s 2ms/step - loss: 183780.3438 - accuracy: 0.0000e+00\n",
      "Epoch 98/100\n",
      "144/144 [==============================] - 0s 2ms/step - loss: 183720.3438 - accuracy: 0.0000e+00\n",
      "Epoch 99/100\n",
      "144/144 [==============================] - 0s 2ms/step - loss: 183773.6562 - accuracy: 0.0000e+00\n",
      "Epoch 100/100\n",
      "144/144 [==============================] - 0s 2ms/step - loss: 183813.2656 - accuracy: 0.0000e+00\n"
     ]
    },
    {
     "data": {
      "text/plain": [
       "<keras.callbacks.History at 0x21a7da055d0>"
      ]
     },
     "execution_count": 12,
     "metadata": {},
     "output_type": "execute_result"
    }
   ],
   "source": [
    "model.fit(\n",
    "    house_all, prices, epochs=100\n",
    ")"
   ]
  },
  {
   "cell_type": "code",
   "execution_count": 13,
   "metadata": {},
   "outputs": [
    {
     "name": "stdout",
     "output_type": "stream",
     "text": [
      "[[293329.03]]\n"
     ]
    }
   ],
   "source": [
    "#model.predict([(bedroom, bathroom, luas, floor)])\n",
    "predict_price = model.predict([(2, 1, 1250, 2)])\n",
    "print(predict_price)"
   ]
  },
  {
   "cell_type": "code",
   "execution_count": null,
   "metadata": {},
   "outputs": [],
   "source": [
    "model.save(\"tes.h5\")"
   ]
  }
 ],
 "metadata": {
  "kernelspec": {
   "display_name": "Python 3",
   "language": "python",
   "name": "python3"
  },
  "language_info": {
   "codemirror_mode": {
    "name": "ipython",
    "version": 3
   },
   "file_extension": ".py",
   "mimetype": "text/x-python",
   "name": "python",
   "nbconvert_exporter": "python",
   "pygments_lexer": "ipython3",
   "version": "3.10.0 (tags/v3.10.0:b494f59, Oct  4 2021, 19:00:18) [MSC v.1929 64 bit (AMD64)]"
  },
  "orig_nbformat": 4,
  "vscode": {
   "interpreter": {
    "hash": "3a0f168a7498511f1daaf70ae0598e3ff8ba902cef1655fb571e00fc7ccf21d3"
   }
  }
 },
 "nbformat": 4,
 "nbformat_minor": 2
}
